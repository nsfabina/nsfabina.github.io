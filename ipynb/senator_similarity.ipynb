{
 "cells": [
  {
   "cell_type": "markdown",
   "metadata": {},
   "source": [
    "# How similar are Bernie Sanders' and Hillary Clinton's voting records?\n",
    "\n",
    "<img src=\"https://upload.wikimedia.org/wikipedia/en/e/e3/DemocraticLogo.png\" style=\"height:100px\">\n",
    "\n",
    "## Motivation\n",
    "\n",
    "The 2015 primary season is in full-swing and plenty of attention is being given to the two main Democratic candidates, Bernie Sanders and Hillary Clinton. Although there are clear differences between Sanders and Clinton, I thought it would be interesting to try to quantify those differences, and explore whether those differences were correlated with any meaningful characteristics. This actually seems like a pretty simple project, given the numerous efforts to open up government records and the tools available to evaluate this type of data.\n",
    "\n",
    "For this exploration, we're going to use the <a href=\"https://govtrack.us\"><b>GovTrack.us API</b></a> to access information on Sanders, Clinton, and other Senators. As an overview, we're going to access Senator identifying information and voting records, convert that raw data into useful structures, and calculate and compare similarity metrics, much as we would for social network analysis or recommendation systems.\n",
    "\n",
    "## I. Accessing Senator information\n",
    "\n",
    "First, we need to pull a comprehensive list of Senators to analyze. I arbitrarily decided that I wanted to compare Senators that served after January 01, 2000, and I wanted to restrict the analysis to Senators that served for at least two years. Without confirming whether these constraints are useful, I wanted to avoid potential issues with temporal voting trends and changing political climates, as well as Senators that served for a short amount of time and have \"outlier\" voting records. With that in mind, we can pull identifying information for each Senator, including their GovTrack ID, name, party, state, and gender."
   ]
  },
  {
   "cell_type": "code",
   "execution_count": 1,
   "metadata": {
    "collapsed": false
   },
   "outputs": [],
   "source": [
    "import json\n",
    "import requests\n",
    "\n",
    "# Set the base GovTrack API URL\n",
    "_URL_GOVTRACK = 'https://www.govtrack.us/api/v2/'\n",
    "\n",
    "# Set the URL for Senator information, only search for Senators that\n",
    "# match our arbitrary criteria\n",
    "url_senators = _URL_GOVTRACK + \\\n",
    "    'role?role_type=senator&enddate__gte=2002-01-01&limit=500'\n",
    "\n",
    "# Access and load Senator information, careful to ensure that the number\n",
    "# of senators does not exceed the API limit\n",
    "senators_raw = json.loads(requests.get(url_senators).text)['objects']\n",
    "\n",
    "# Clean Senator information, keeping only certain identifying details.\n",
    "senators = {str(sen['person']['id']): {\n",
    "                'name': sen['person']['name'],\n",
    "                'lastname': sen['person']['lastname'],\n",
    "                'firstname': sen['person']['firstname'],\n",
    "                'party': sen['party'],\n",
    "                'state': sen['state'],\n",
    "                'gender': sen['person']['gender']}\n",
    "            for sen in senators_raw}"
   ]
  },
  {
   "cell_type": "markdown",
   "metadata": {},
   "source": [
    "At the time of this writing, this returns a dictionary with records for approximately 200 Senators, each similar to this:"
   ]
  },
  {
   "cell_type": "code",
   "execution_count": 2,
   "metadata": {
    "collapsed": false
   },
   "outputs": [
    {
     "data": {
      "text/plain": [
       "{'firstname': u'Bernard',\n",
       " 'gender': u'male',\n",
       " 'lastname': u'Sanders',\n",
       " 'name': u'Sen. Bernard \\u201cBernie\\u201d Sanders [I-VT]',\n",
       " 'party': u'Independent',\n",
       " 'state': u'VT'}"
      ]
     },
     "execution_count": 2,
     "metadata": {},
     "output_type": "execute_result"
    }
   ],
   "source": [
    "bernie_id = [id_ for id_, sen in senators.items()\n",
    "             if sen['lastname'] == 'Sanders' and\n",
    "                 sen['firstname'] == 'Bernard'][0]\n",
    "\n",
    "senators[bernie_id]"
   ]
  },
  {
   "cell_type": "markdown",
   "metadata": {},
   "source": [
    "As an aside, I didn't have time to go very deep with this analysis. One could use the <a href=\"https://www.opensecrets.org\"><b>OpenSecrets.org</b></a> or the <a href=\"https://www.votesmart.org\"><b>VoteSmart.org</b></a> APIs (among others) to access additional information for each Senator. For instance, OpenSecrets.org has great information on net worth and funding, while VoteSmart.org has contextual data, including education and religious affiliation. GovTrack.us makes it easy to work with all three by providing the API IDs as `osid` and `vsid` in the raw response.\n",
    "\n",
    "## II. Accessing Senator voting records\n",
    "\n",
    "Second, we need to grab the votes for each Senator, but there are two tricky points here: one political and one technical. For the former, many Senators were also Representatives at one point and we do not want to incorrectly include Represenative votes in our analysis. For the latter, the GovTrack API has a limit of 600 objects (Senators, votes, bills, etc.) per each request, and we need to manually step through all API calls."
   ]
  },
  {
   "cell_type": "code",
   "execution_count": 3,
   "metadata": {
    "collapsed": false
   },
   "outputs": [],
   "source": [
    "# Set the base URL for Senator voting information, searching for only \n",
    "# votes made after Jan 01, 2000.\n",
    "_URL_VOTERS = _URL_GOVTRACK + 'vote_voter?created__gt=2000-01-01'\n",
    "_API_LIMIT = 600\n",
    "\n",
    "# Functions to get all votes\n",
    "def get_votes_for_senator(govtrack_id):\n",
    "    \"\"\"\n",
    "    Get all votes for a Senator given his/her GovTrack ID.\n",
    "    \"\"\"\n",
    "    # Get total vote count for the senator, used for paging\n",
    "    total_count = _get_total_vote_count_for_senator(govtrack_id)\n",
    "    # Create dictionary to hold votes\n",
    "    votes = {}\n",
    "    # Page through the API responses, get and clean vote information\n",
    "    offsets = [idx * _API_LIMIT for idx in range(total_count / _API_LIMIT)]\n",
    "    for offset in offsets:\n",
    "        votes_raw = _get_raw_votes_for_senator(govtrack_id, offset)\n",
    "        votes = _update_votes_with_raw_votes(votes, votes_raw)\n",
    "    return votes\n",
    "\n",
    "\n",
    "def _get_total_vote_count_for_senator(govtrack_id):\n",
    "    \"\"\"\n",
    "    Get the total number of votes for a Senator given his/her GovTrack ID.\n",
    "    \"\"\"\n",
    "    # URL for metainformation without records\n",
    "    url_meta = _URL_VOTERS + '&person={id}&limit=0'.format(id=govtrack_id)\n",
    "    # Access and load metainformation\n",
    "    meta = json.loads(requests.get(url_meta).text)['meta']\n",
    "    # Return vote count\n",
    "    return meta['total_count']\n",
    "\n",
    "\n",
    "def _get_raw_votes_for_senator(govtrack_id, offset):\n",
    "    \"\"\"\n",
    "    Get a page of votes in the raw GovTrack API format.\n",
    "    \"\"\"\n",
    "    # URL for votes, starting with vote number == offset\n",
    "    url_votes = _URL_VOTERS + '&person={id}&offset={offset}&limit={limit}'\\\n",
    "        .format(id=govtrack_id, offset=offset, limit=_API_LIMIT)\n",
    "    # Access, load, and return votes\n",
    "    return json.loads(requests.get(url_votes).text)['objects']\n",
    "\n",
    "\n",
    "def _update_votes_with_raw_votes(votes, votes_raw):\n",
    "    \"\"\"\n",
    "    Update a dictionary of votes with GovTrack vote IDs and Senator vote \n",
    "    actions.\n",
    "    \"\"\"\n",
    "    # Step through each raw vote\n",
    "    for vote in votes_raw:\n",
    "        # Keep the vote only if it was a Senate vote\n",
    "        if vote['vote']['chamber_label'] == 'Senate':\n",
    "            # Store the vote ID and Senator action\n",
    "            vote_id = str(vote['vote']['id'])\n",
    "            vote_action = vote['option']['value']\n",
    "            votes.update({vote_id: vote_action})\n",
    "    return votes"
   ]
  },
  {
   "cell_type": "markdown",
   "metadata": {},
   "source": [
    "Whew, now we can actually get the votes for each Senator. This can take some time, depending on your setup, so you may find it helpful to track its progress. I usually prefer sending log statements to stdout when developing, but the print statements with a leading carriage return and a trailing comma are great for keeping progress statements to a single line.\n",
    "\n",
    "Note that I'm commenting this out because I've already downloaded votes and saved them to a JSON file."
   ]
  },
  {
   "cell_type": "code",
   "execution_count": 5,
   "metadata": {
    "collapsed": false
   },
   "outputs": [],
   "source": [
    "# Object to store votes\n",
    "senator_votes = {}\n",
    "\n",
    "# Get votes for each Senator\n",
    "\"\"\"\n",
    "for idx, govtrack_id in enumerate(senators.keys()):\n",
    "    print '\\rGetting votes for Senator ', idx+1, ' out of ', len(senators),\n",
    "    senator_votes.update({govtrack_id: get_votes_for_senator(govtrack_id)})\n",
    "\"\"\"\n",
    "\n",
    "# Export downloaded votes\n",
    "_LOCAL_PATH = '{LOCAL_PATH}'\n",
    "\"\"\"\n",
    "with open(_LOCAL_PATH, 'w') as file_:\n",
    "    file_.writelines(json.dumps(senator_votes))\n",
    "\"\"\""
   ]
  },
  {
   "cell_type": "markdown",
   "metadata": {},
   "source": [
    "## III. Cleaning and formatting Senator voting information\n",
    "\n",
    "After loading the downloaded data, we have a dictionary of votes for each Senator. For example, Bernie's votes look like:"
   ]
  },
  {
   "cell_type": "code",
   "execution_count": 6,
   "metadata": {
    "collapsed": false
   },
   "outputs": [
    {
     "name": "stdout",
     "output_type": "stream",
     "text": [
      "Vote ID:   110004  - Vote action:   Yea\n",
      "Vote ID:   110005  - Vote action:   Yea\n",
      "Vote ID:   110007  - Vote action:   Nay\n",
      "Vote ID:   110000  - Vote action:   Yea\n",
      "Vote ID:   110001  - Vote action:   Yea\n"
     ]
    }
   ],
   "source": [
    "# Load data from local file\n",
    "with open(_LOCAL_PATH, 'r') as file_:\n",
    "    senator_votes = json.loads(file_.readlines()[0])\n",
    "    \n",
    "for key, value in senator_votes[bernie_id].items()[:5]:\n",
    "    print 'Vote ID:  ', key, ' - Vote action:  ', value"
   ]
  },
  {
   "cell_type": "markdown",
   "metadata": {},
   "source": [
    "Okay, we now have Senator identifying information and voting records in two separate objects. Before proceeding, we want to create one derived object, a pandas dataframe, to format the data into something more amenable to exploration. Specifically, we'll create a matrix where Senators are columns, votes are rows, and the action taken by Senator `i` for vote `j` is represented by the `[i, j]` element. Fortunately, pandas is clever enough to handle this transformation for us."
   ]
  },
  {
   "cell_type": "code",
   "execution_count": 7,
   "metadata": {
    "collapsed": false
   },
   "outputs": [
    {
     "name": "stdout",
     "output_type": "stream",
     "text": [
      "Bernie voted \"Nay\" on Keystone XL\n"
     ]
    }
   ],
   "source": [
    "import pandas\n",
    "\n",
    "# Convert data to pandas dataframe\n",
    "votes = pandas.DataFrame(senator_votes)\n",
    "\n",
    "# Access Bernie's voting action on the Keystone XL vote, identifying\n",
    "# the Keystone XL vote by manually searching GovTrack.us\n",
    "keystone_xl_id = '116202'\n",
    "print 'Bernie voted \"{v}\" on Keystone XL'.format(\n",
    "    v=votes[bernie_id][keystone_xl_id])"
   ]
  },
  {
   "cell_type": "markdown",
   "metadata": {},
   "source": [
    "The example above illustrates how we can use a Senator ID and vote ID to access the Senator's action on that vote. In this case, Bernie Sanders voted Nay on Keystone XL in January 2015.\n",
    "\n",
    "## IV. Calculating similarity values\n",
    "\n",
    "One critical detail for our analysis is identifying the set of possible actions that Senators can take on each vote."
   ]
  },
  {
   "cell_type": "code",
   "execution_count": 8,
   "metadata": {
    "collapsed": false
   },
   "outputs": [
    {
     "data": {
      "text/plain": [
       "[nan, u'Yea', u'Not Voting', u'Nay', u'Present', u'Not Guilty', u'Guilty']"
      ]
     },
     "execution_count": 8,
     "metadata": {},
     "output_type": "execute_result"
    }
   ],
   "source": [
    "list(pandas.Series(votes.values.ravel()).unique())"
   ]
  },
  {
   "cell_type": "markdown",
   "metadata": {},
   "source": [
    "We can now develop and apply a similarity metric to this dataset. Remember, our goal is to evaluate the similarity of Senators' voting records. To illustrate the data we're evaluating, check out this subset of the pandas dataframe for Bernie and Hillary's columns:"
   ]
  },
  {
   "cell_type": "code",
   "execution_count": 9,
   "metadata": {
    "collapsed": false
   },
   "outputs": [
    {
     "data": {
      "text/html": [
       "<div>\n",
       "<table border=\"1\" class=\"dataframe\">\n",
       "  <thead>\n",
       "    <tr style=\"text-align: right;\">\n",
       "      <th></th>\n",
       "      <th>400357</th>\n",
       "      <th>300022</th>\n",
       "    </tr>\n",
       "  </thead>\n",
       "  <tbody>\n",
       "    <tr>\n",
       "      <th>111248</th>\n",
       "      <td>Yea</td>\n",
       "      <td>Yea</td>\n",
       "    </tr>\n",
       "    <tr>\n",
       "      <th>111250</th>\n",
       "      <td>Yea</td>\n",
       "      <td>Yea</td>\n",
       "    </tr>\n",
       "    <tr>\n",
       "      <th>111251</th>\n",
       "      <td>Yea</td>\n",
       "      <td>Yea</td>\n",
       "    </tr>\n",
       "    <tr>\n",
       "      <th>111254</th>\n",
       "      <td>Nay</td>\n",
       "      <td>Nay</td>\n",
       "    </tr>\n",
       "    <tr>\n",
       "      <th>111255</th>\n",
       "      <td>Nay</td>\n",
       "      <td>Nay</td>\n",
       "    </tr>\n",
       "    <tr>\n",
       "      <th>111260</th>\n",
       "      <td>Yea</td>\n",
       "      <td>Yea</td>\n",
       "    </tr>\n",
       "    <tr>\n",
       "      <th>111264</th>\n",
       "      <td>Nay</td>\n",
       "      <td>Yea</td>\n",
       "    </tr>\n",
       "    <tr>\n",
       "      <th>111266</th>\n",
       "      <td>Yea</td>\n",
       "      <td>Not Voting</td>\n",
       "    </tr>\n",
       "  </tbody>\n",
       "</table>\n",
       "</div>"
      ],
      "text/plain": [
       "       400357      300022\n",
       "111248    Yea         Yea\n",
       "111250    Yea         Yea\n",
       "111251    Yea         Yea\n",
       "111254    Nay         Nay\n",
       "111255    Nay         Nay\n",
       "111260    Yea         Yea\n",
       "111264    Nay         Yea\n",
       "111266    Yea  Not Voting"
      ]
     },
     "execution_count": 9,
     "metadata": {},
     "output_type": "execute_result"
    }
   ],
   "source": [
    "hillary_id = [id_ for id_, sen in senators.items()\n",
    "              if sen['lastname'] == 'Clinton' and\n",
    "                  sen['firstname'] == 'Hillary'][0]\n",
    "\n",
    "votes.get([bernie_id, hillary_id])[1017:1025]"
   ]
  },
  {
   "cell_type": "markdown",
   "metadata": {},
   "source": [
    "Each row from the two columns is a datapoint to evaluate whether Bernie and Hillary are similar to one another. If you're comfortable with graph theory, social networks, or recommendation systems, this will look pretty familiar.\n",
    "\n",
    "Looking at the pair of actions in each datapoint or vote, we can see that Sanders and Clinton can 1) both vote `Yea`, 2) both vote `Nay`, 3) vote `Nay` and `Yea`, respectively, and 4) vote and not vote, respectively. Ignoring for a second that there are other possible responses, how can we use this information to calculate their similarity?\n",
    "\n",
    "Well, one way of addressing this question would be to count a point towards similarity if both Senators take the same action (both `Yea` or both `Nay`, a point towards dissimilarity if the two cast different votes (`Yea` and `Nay`), and to ignore the datapoint if at least one Senator did not vote (`nan` or `Not Voting`). Essentially, we're applying a modified Jaccard index to these two columns. Similarity values will range between `1` for Senators with identical voting records and `-1` for Senators who always took different voting actions.\n",
    "\n",
    "To make things even simpler, we're only going to count `Yea` and `Nay`, ignoring all other possible actions. It's not that we couldn't tease meaning from `Present` or `Not Voting`, such as Senators avoiding divisive votes during election years, but we would need to dig deeper to feel confident about their meaning. We're also going to require that each pair of Senators have at least 100 shared votes to evaluate their similarity, defaulting to `NA` if we don't have enough data."
   ]
  },
  {
   "cell_type": "code",
   "execution_count": 11,
   "metadata": {
    "collapsed": false
   },
   "outputs": [
    {
     "name": "stdout",
     "output_type": "stream",
     "text": [
      "Calculating similarity for Senator  201 out of 201\n"
     ]
    }
   ],
   "source": [
    "import numpy as np\n",
    "\n",
    "# Require at least 100 shared votes\n",
    "_THRESHOLD_VOTES = 100\n",
    "\n",
    "# Function to calculate senator similarity\n",
    "def calculate_senator_similarity(votes_i, votes_j):\n",
    "    \"\"\"\n",
    "    Calculate the similarity of two Senators based on their voting records.\n",
    "    \"\"\"\n",
    "    idx_overlap = \\\n",
    "        np.logical_and(\n",
    "            np.logical_or(votes_i.values == 'Yea', votes_i.values == 'Nay'),\n",
    "            np.logical_or(votes_j.values == 'Yea', votes_j.values == 'Nay'))\n",
    "    same = np.sum(votes_i.values[idx_overlap] == votes_j.values[idx_overlap])\n",
    "    diff = np.sum(votes_i.values[idx_overlap] != votes_j.values[idx_overlap])\n",
    "    total = np.sum(idx_overlap)\n",
    "    if total >= _THRESHOLD_VOTES:\n",
    "        similarity = float(same - diff) / total\n",
    "    else:\n",
    "        similarity = None\n",
    "    return similarity\n",
    "\n",
    "\n",
    "# Step through Senators, only calculating once for each pair\n",
    "similarities = {senator: {} for senator in votes.columns}\n",
    "\n",
    "for idx_i, senator_i in enumerate(votes.columns):\n",
    "    print '\\rCalculating similarity for Senator ', idx_i+1, ' out of ', len(votes.columns),\n",
    "    for idx_j, senator_j in enumerate(votes.columns):\n",
    "        if idx_i < idx_j:\n",
    "            votes_i = votes.get(senator_i)\n",
    "            votes_j = votes.get(senator_j)\n",
    "            similarity = calculate_senator_similarity(votes_i, votes_j)\n",
    "            similarities[senator_i].update({senator_j: similarity})\n",
    "            similarities[senator_j].update({senator_i: similarity})"
   ]
  },
  {
   "cell_type": "markdown",
   "metadata": {},
   "source": [
    "Note that I calculated the similarity for each pair of Senators only once. We store the similarity value for Senators `i` and `j` twice, in case we'd like to use the indices in any order.\n",
    "\n",
    "Again, we'll make use of a pandas dataframe to format this dictionary. However, this matrix will have Senators as columns and rows, with each matrix element `[i, j]` representing the similarity between Senators `i` and `j`. As a reminder, we expect Senators to have no similarity value relative to Senators they share fewer than `100` votes with, as well as themselves given how we iterated through indices."
   ]
  },
  {
   "cell_type": "code",
   "execution_count": 12,
   "metadata": {
    "collapsed": true
   },
   "outputs": [],
   "source": [
    "# Convert similarities to a dataframe\n",
    "similarities = pandas.DataFrame(similarities)"
   ]
  },
  {
   "cell_type": "markdown",
   "metadata": {},
   "source": [
    "## V. Analyzing similarity values\n",
    "\n",
    "Using this dataframe, we can easily see the similarity of any two Senators. For instance, the whole premise of this post was that we wanted to know how similar Bernie and Hillary were based on their voting record:"
   ]
  },
  {
   "cell_type": "code",
   "execution_count": 13,
   "metadata": {
    "collapsed": false
   },
   "outputs": [
    {
     "data": {
      "text/plain": [
       "0.86390532544378695"
      ]
     },
     "execution_count": 13,
     "metadata": {},
     "output_type": "execute_result"
    }
   ],
   "source": [
    "similarities[bernie_id][hillary_id]"
   ]
  },
  {
   "cell_type": "markdown",
   "metadata": {},
   "source": [
    "Given that this is essentially a modified recommendation system, this is the relative confidence that we think someone would support Hillary, given that they thought Bernie was a good Senator (or vice versa). That is, if a similarity value of `1` represents high confidence that someone would like a second Senator, given their preference for the first, `-1` would represent high confidence that someone would not like a second Senator, and `0` would represent complete uncertainty. Here, we're pretty confident that a Bernie supporter would also be comfortable voting for Hillary, and a Hillary supporter would just as easily vote for Bernie.\n",
    "\n",
    "What about the Republicans? What's the chance that a Bernie or Hillary supporter would also support Ted Cruz, Lindsey Graham, Rand Paul, or Rick Santorum?"
   ]
  },
  {
   "cell_type": "code",
   "execution_count": 14,
   "metadata": {
    "collapsed": false
   },
   "outputs": [
    {
     "name": "stdout",
     "output_type": "stream",
     "text": [
      "Bernie and Rand Paul -0.435294117647\n",
      "Hillary and Rand Paul nan \n",
      "\n",
      "Bernie and Lindsey Graham -0.300217864924\n",
      "Hillary and Lindsey Graham -0.232323232323 \n",
      "\n",
      "Bernie and Richard Santorum nan\n",
      "Hillary and Richard Santorum -0.205555555556 \n",
      "\n",
      "Bernie and Ted Cruz -0.441605839416\n",
      "Hillary and Ted Cruz nan \n",
      "\n"
     ]
    }
   ],
   "source": [
    "# Get Republican GovTrack IDs\n",
    "republicans = [('Ted', 'Cruz'), ('Lindsey', 'Graham'), ('Rand', 'Paul'),\n",
    "               ('Richard', 'Santorum')]\n",
    "r_ids = {' '.join(republican): id_ for id_, sen in senators.items()\n",
    "         for republican in republicans\n",
    "         if sen['firstname'] == republican[0] and \n",
    "            sen['lastname'] == republican[1]}\n",
    "\n",
    "# Print similarity values\n",
    "for r_name, r_id in r_ids.items():\n",
    "    print 'Bernie and ' + r_name, similarities[bernie_id][r_id]\n",
    "    print 'Hillary and ' + r_name, similarities[hillary_id][r_id], '\\n'"
   ]
  },
  {
   "cell_type": "markdown",
   "metadata": {},
   "source": [
    "There are two things we expect to see here. First, supporters of Bernie and Hillary are expected to not support any of the Republican candidates for President. Second, we cannot estimate the similarity between Bernie and Santorum, or between Hillary and Paul or Cruz, because their tenures did not overlap.\n",
    "\n",
    "We could infer unknown similarity values from known Senator similarities. For instance, Bernie joined the Senate in 2007, the same year that Santorum left. If we can find Senators that served both before and after 2007, we can compare their pre-2007 Santorum similarities to their post-2007 Bernie similarities. One of the simplest approaches would be looking at correlations in the Santorum and Bernie similarities. Positive correlations would suggest that Bernie and Santorum would have been similar, which negative correlations would suggest the opposite."
   ]
  },
  {
   "cell_type": "code",
   "execution_count": 15,
   "metadata": {
    "collapsed": false
   },
   "outputs": [
    {
     "data": {
      "text/plain": [
       "-0.94672584909717317"
      ]
     },
     "execution_count": 15,
     "metadata": {},
     "output_type": "execute_result"
    }
   ],
   "source": [
    "import scipy.stats\n",
    "\n",
    "# Find Senators that have a defined similarity to both Bernie and Santorum\n",
    "bernie_similarities = similarities.get(bernie_id)\\\n",
    "    .values.flatten()\n",
    "santorum_similarities = similarities.get(r_ids['Richard Santorum'])\\\n",
    "    .values.flatten()\n",
    "idx_shared = np.where(\n",
    "    np.logical_and(np.isfinite(bernie_similarities),\n",
    "                   np.isfinite(santorum_similarities)))[0]\n",
    "\n",
    "# Calculate the correlation between Bernie and Santorum similarities to \n",
    "# other Senators\n",
    "scipy.stats.stats.pearsonr(bernie_similarities[idx_shared],\n",
    "                           santorum_similarities[idx_shared])[0]"
   ]
  },
  {
   "cell_type": "markdown",
   "metadata": {},
   "source": [
    "Ignoring any statistical or political issues with this type of analysis, the correlation between the similarity of Senators to Bernie and the similarity of Senators to Santorum is `-.94`, suggesting that Bernie and Santorum would have been dissimilar had their Senate service overlapped.\n",
    "\n",
    "Another way to look at this would be to ask which Senators have voting records most similar to Bernie or Hillary. Again, this is our relative estimate for which Senators someone might like, given that they like either Bernie or Hillary. These seem to make sense given political and demographic trends."
   ]
  },
  {
   "cell_type": "code",
   "execution_count": 19,
   "metadata": {
    "collapsed": false
   },
   "outputs": [
    {
     "name": "stdout",
     "output_type": "stream",
     "text": [
      "Senators most similar to Bernie:\n",
      "   Vice President Joseph Biden [D]  =  0.943396226415\n",
      "   Sen. Tammy Baldwin [D-WI]  =  0.924349881797\n",
      "   Sen. Edward “Ed” Markey [D-MA]  =  0.920477137177\n",
      "   Sen. Cory Booker [D-NJ]  =  0.919642857143\n",
      "   Sen. Brian Schatz [D-HI]  =  0.913533834586\n",
      "   Sen. Mazie Hirono [D-HI]  =  0.911894273128\n",
      "   Sen. Elizabeth Warren [D-MA]  =  0.905429071804\n",
      "   Sen. Patrick Leahy [D-VT]  =  0.903357903358\n",
      "   Sen. Christopher Murphy [D-CT]  =  0.893961708395\n",
      "   Sen. Roland Burris [D-IL, 2009-2010]  =  0.890971039182\n"
     ]
    }
   ],
   "source": [
    "print 'Senators most similar to Bernie:'\n",
    "bernie_sorted = similarities[bernie_id].sort_values(ascending=False)\n",
    "for id_, sim in bernie_sorted[:10].iteritems():\n",
    "    print '  ', senators[id_]['name'], ' = ', sim"
   ]
  },
  {
   "cell_type": "code",
   "execution_count": 20,
   "metadata": {
    "collapsed": false
   },
   "outputs": [
    {
     "name": "stdout",
     "output_type": "stream",
     "text": [
      "Senators most similar to Hillary:\n",
      "   Sen. Sherrod Brown [D-OH]  =  0.928143712575\n",
      "   Sen. Benjamin Cardin [D-MD]  =  0.911504424779\n",
      "   Sen. Charles “Chuck” Schumer [D-NY]  =  0.910031488979\n",
      "   Sen. Sheldon Whitehouse [D-RI]  =  0.905882352941\n",
      "   President Barack Obama [D]  =  0.882750845547\n",
      "   Sen. Frank Lautenberg [D-NJ, 2003-2013]  =  0.878064110622\n",
      "   Sen. Robert “Bob” Casey [D-PA]  =  0.876832844575\n",
      "   Sen. John Kerry [D-MA, 1985-2013]  =  0.870855148342\n",
      "   Sen. Barbara Mikulski [D-MD]  =  0.869763205829\n",
      "   Sen. Barbara Boxer [D-CA]  =  0.868943239502\n"
     ]
    }
   ],
   "source": [
    "print 'Senators most similar to Hillary:'\n",
    "hillary_sorted = similarities[hillary_id].sort_values(ascending=False)\n",
    "for id_, sim in hillary_sorted[:10].iteritems():\n",
    "    print '  ', senators[id_]['name'], ' = ', sim"
   ]
  },
  {
   "cell_type": "markdown",
   "metadata": {},
   "source": [
    "We could also ask which Senators a Bernie supporter would not support:"
   ]
  },
  {
   "cell_type": "code",
   "execution_count": 21,
   "metadata": {
    "collapsed": false
   },
   "outputs": [
    {
     "name": "stdout",
     "output_type": "stream",
     "text": [
      "Senators most dissimilar to Bernie:\n",
      "   Sen. Jim DeMint [R-SC, 2005-2012]  =  -0.584964761159\n",
      "   Sen. Jon Kyl [R-AZ, 1995-2012]  =  -0.530221882173\n",
      "   Sen. Thomas Coburn [R-OK, 2005-2014]  =  -0.527764815679\n",
      "   Sen. Tim Scott [R-SC]  =  -0.490254872564\n",
      "   Sen. Jim Bunning [R-KY, 1999-2010]  =  -0.486935866983\n",
      "   Sen. Mike Lee [R-UT]  =  -0.486338797814\n",
      "   Sen. James “Jim” Inhofe [R-OK]  =  -0.476989247312\n",
      "   Sen. James Risch [R-ID]  =  -0.46511627907\n",
      "   Sen. John Ensign [R-NV, 2001-2011]  =  -0.461461461461\n",
      "   Sen. Ted Cruz [R-TX]  =  -0.441605839416\n"
     ]
    }
   ],
   "source": [
    "print 'Senators most dissimilar to Bernie:'\n",
    "bernie_sorted = similarities[bernie_id].sort_values(ascending=True)\n",
    "for id_, sim in bernie_sorted[:10].iteritems():\n",
    "    print '  ', senators[id_]['name'], ' = ', sim"
   ]
  },
  {
   "cell_type": "markdown",
   "metadata": {},
   "source": [
    "That's interesting and all, but we can do so much more with the data we've gathered. All of the comparisons above are pairwise; that is, they only account for the relationship between any two Senators. We can use the overall structure of this matrix, which is essentially a social network with weights representing political similarity, to explore groupings and other large-scale patterns. That's on tap for another notebook."
   ]
  }
 ],
 "metadata": {
  "kernelspec": {
   "display_name": "Python 2",
   "language": "python",
   "name": "python2"
  },
  "language_info": {
   "codemirror_mode": {
    "name": "ipython",
    "version": 2
   },
   "file_extension": ".py",
   "mimetype": "text/x-python",
   "name": "python",
   "nbconvert_exporter": "python",
   "pygments_lexer": "ipython2",
   "version": "2.7.10"
  }
 },
 "nbformat": 4,
 "nbformat_minor": 0
}
