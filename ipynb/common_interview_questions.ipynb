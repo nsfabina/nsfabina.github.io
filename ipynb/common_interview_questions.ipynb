{
 "cells": [
  {
   "cell_type": "markdown",
   "metadata": {},
   "source": [
    "# Answers to common interview questions\n",
    "\n",
    "Hey! Thanks for checking out my website prior to our phone screen or culture interview. I've noticed that 1) there is set of standard questions that most organizations ask and 2) our initial phone screens or culture conversations tend to run longer than expected. I thought it could be useful to make some of my standard answers available, so that we have more time to talk about my practical experience, the challenges you need help with, and whether we're a good fit for one another.\n",
    "\n",
    "### What motivates you OR what do you find meaningful or interesting OR what types of projects do you want to work on?\n",
    "\n",
    "Chances are, I'm going to be doing many different things for you, and that you can't anticipate what projects I'll actually be working on in a few months or even weeks. Because of that, it's wonderful that I'm flexible and enthusiastic about a variety of projects and goals. Having said that, I'm really excited about creating something of broader societal benefit, helping people in some tangible way, learning new skills or technology, or collaborating with team members and mentoring one another.\n",
    "\n",
    "Having said that, I'm a professional and we need to pay the bills. I'll also be enthusiastic about tasks that keep the lights on or facilitate more impactful work. \n",
    "\n",
    "### What's your management philosophy?\n",
    "\n",
    "In general, regardless of whether I'm in a management or technical role, I support cultural habits that spring from the following assumptions:\n",
    "- individuals and teams are more productive and creative when they feel supported and trusted\n",
    "- everyone on my team should be there because they have unique skills and abilities, and our team is more effective when we leverage those advantages\n",
    "- communication is critical -- listen first, ask questions second, and provide input where and when it's necessary\n",
    "- shortcuts and short-term wins can be outweighed by hidden costs or long-term consequences, and substantial up-front investments can save time or money despite seeming more expensive\n",
    "- diversity is critical, and not just w.r.t. gender, race, socio-economic status, etc... it's great to have teams with members fresh out of undergrad and with decades of experience; with people who keep things simple and those whole like exploring new technology and approaches; introverts and extroverts; those who prefer collaboration and those who prefer independence; etc.\n",
    "\n",
    "Do I have any best practices? Not really. I believe there are a million ways to cultivate cultural habits where the whole is greater than the sum of its parts, with the specifics being dependent on the team itself. On the other hand, there are a handful of practices that have the opposite effect and should be avoided at all costs.\n",
    "\n",
    "### What's your mentorship philosophy?\n",
    "\n",
    "Mentorship should be a natural and frequent occurrence in a healthy environment. Teams need the freedom and flexibility to collaborate. Individuals need effective communication and comfort with one another to be both mentors and mentees. It's a big win if team members are growing professionally and personally, and something is wrong if the environment isn't conducive to learning experiences.\n",
    "\n",
    "### How do you feel about testing?\n",
    "\n",
    "You know, this is a tough question because some individuals and organizations can be opinionated about best practices. I've been on teams where everything is to be tested and I've been on teams where nothing is to be tested. Personally, I'm \"live-and-let-live\", in that I'm willing to adopt the institutional habits that make your team most effective.\n",
    "\n",
    "Given free rein, I tend to aim for what I consider a reasonable middle-ground. I attempt to balance short-term development speed against maintainability and long-term development speed. I tend to do more testing when I'm working on something data science-y and less testing when I'm engineering more generally. That is, it's harder to know if a model's results are incorrect, whereas it's relatively simple to identify when a server is down or a webpage is not rendered. I like testing critical lower-level functions and building integration or end-to-end tests to confirm results are reasonable. I'll deprioritize tests for higher-level functions that simply glue everything together.\n",
    "\n",
    "### How do you feel about refactoring?\n",
    "\n",
    "I think it's a good rule of thumb to write something the first time, copy and paste it the second time, and refactor it the third time.\n",
    "\n",
    "It's nice to have reasonable standards for the first iteration of any project; I don't want to relearn or decipher anything when I finally get around to modifying or refactoring code. That means I'm going to be thoughtful about naming and comments, how I organize functions, classes, and modules, and leave suggestions for possible improvements. Again, this is a big win when I eventually come back to the code, but it's an even bigger win if another person is responsible for refactoring.\n",
    "\n",
    "I like to refactor when components are high value or broadly used. I like to deprioritize refactoring when items are low value, highly specialized, likely to be deleted, or when testing is limited."
   ]
  }
 ],
 "metadata": {
  "kernelspec": {
   "display_name": "Python 2",
   "language": "python",
   "name": "python2"
  },
  "language_info": {
   "codemirror_mode": {
    "name": "ipython",
    "version": 2
   },
   "file_extension": ".py",
   "mimetype": "text/x-python",
   "name": "python",
   "nbconvert_exporter": "python",
   "pygments_lexer": "ipython2",
   "version": "2.7.10"
  }
 },
 "nbformat": 4,
 "nbformat_minor": 0
}
