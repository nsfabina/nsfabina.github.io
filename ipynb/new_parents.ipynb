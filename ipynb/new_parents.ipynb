{
 "cells": [
  {
   "cell_type": "markdown",
   "metadata": {},
   "source": [
    "## Creating interactive plots\n",
    "\n",
    "### Motivation\n",
    "\n",
    "Two recent developments:  first, I wanted to experiment with making interactive visualizations in Jupyter Notebook and, second, I'm at the age where all of my friends are having children. We've been joking about the imminent changes to their sleep patterns, and I'm sure they would appreciate being able to see those changes quantified. Why not use this as the basis of an interactive graphic?\n",
    "\n",
    "#### Set HTML styling for widget labels\n",
    "\n",
    "This should be easier with the next major version of ipywidgets."
   ]
  },
  {
   "cell_type": "code",
   "execution_count": 1,
   "metadata": {
    "collapsed": false
   },
   "outputs": [
    {
     "data": {
      "text/html": [
       "<style>\n",
       ".widget-label, .widget-hbox {\n",
       "    min-width: 250px !important;\n",
       "}\n",
       "</style>"
      ],
      "text/plain": [
       "<IPython.core.display.HTML object>"
      ]
     },
     "metadata": {},
     "output_type": "display_data"
    }
   ],
   "source": [
    "%%html\n",
    "<style>\n",
    ".widget-label, .widget-hbox {\n",
    "    min-width: 250px !important;\n",
    "}\n",
    "</style>"
   ]
  },
  {
   "cell_type": "markdown",
   "metadata": {},
   "source": [
    "#### Configure plot and widget parameters"
   ]
  },
  {
   "cell_type": "code",
   "execution_count": 2,
   "metadata": {
    "collapsed": true
   },
   "outputs": [],
   "source": [
    "%matplotlib inline\n",
    "import matplotlib.pyplot as plt\n",
    "\n",
    "# Plot parameters\n",
    "plt.rcParams.update({'font.size': 14})\n",
    "\n",
    "# Configure parameters for widgets more generally\n",
    "_WIDGET_KWARGS = {'width': '200px', 'height': '50px'}\n",
    "_BOX_KWARGS = {'border_width': '50px 0px 50px 0px', 'border_color': 'white'}\n",
    "\n",
    "# Configure parameters for widgets for days\n",
    "_DAYS_MIN = 30\n",
    "_DAYS_MAX = 720\n",
    "_DAYS_STEP = 30\n",
    "_DAYS_DEFAULT = 210\n",
    "_DAYS_KWARGS = {'min': _DAYS_MIN, 'max': _DAYS_MAX, 'step': _DAYS_STEP, 'value': _DAYS_DEFAULT}\n",
    "_DAYS_KWARGS.update(_WIDGET_KWARGS)\n",
    "\n",
    "# Configure parameters for widgets for hours\n",
    "_HOURS_MIN = 0\n",
    "_HOURS_MAX = 10\n",
    "_HOURS_STEP = .5\n",
    "_HOURS_DEFAULT_CHILDLESS = 8\n",
    "_HOURS_DEFAULT_PARENT = 4\n",
    "_HOURS_KWARGS = {'min': _HOURS_MIN, 'max': _HOURS_MAX, 'step': _HOURS_STEP}\n",
    "_HOURS_KWARGS.update(_WIDGET_KWARGS)"
   ]
  },
  {
   "cell_type": "markdown",
   "metadata": {},
   "source": [
    "#### Create callback function to create plot"
   ]
  },
  {
   "cell_type": "code",
   "execution_count": 3,
   "metadata": {
    "collapsed": false
   },
   "outputs": [],
   "source": [
    "import numpy as np\n",
    "\n",
    "_PLOT_KWARGS = {'color': (0, 0, 0), 'linewidth': 4}\n",
    "\n",
    "\n",
    "def plot_sleep_deficit(days_total, hours_parent, hours_childless):\n",
    "    \"\"\"\n",
    "    Plots sleep deficits (or gains, but who are you kidding?) by calculating\n",
    "    sleep lost until child sleeps through the night.\n",
    "    \"\"\"\n",
    "    # Create figure and format axes to remove unnecessary framing\n",
    "    plt.figure(figsize=(8, 6))\n",
    "    ax = plt.axes()\n",
    "    ax.get_xaxis().tick_bottom()\n",
    "    ax.get_yaxis().tick_left()\n",
    "    ax.spines['top'].set_visible(False)\n",
    "    ax.spines['right'].set_visible(False)\n",
    "    \n",
    "    # Plot sleep trends\n",
    "    days = np.arange(0, days_total, 1)\n",
    "    plt.plot(days, days*hours_childless, label='Childless', linestyle='-', **_PLOT_KWARGS)\n",
    "    plt.plot(days, days*hours_parent, label='Parent', linestyle='--', **_PLOT_KWARGS)\n",
    "    \n",
    "    # Shade sleep deficit or gain\n",
    "    corners = [[0, 0], [days_total, days_total*hours_childless], \n",
    "               [days_total, days_total*hours_parent]]\n",
    "    color = (1, 0, 0, .1)\n",
    "    if hours_childless < hours_parent:\n",
    "        color = (0, 0, 1, .1)\n",
    "    ax.add_patch(plt.Polygon(corners, color=color))\n",
    "    \n",
    "    # Set title and labels\n",
    "    plt.title('Sleep deficit for new parents')\n",
    "    plt.xlabel('Days since birth')\n",
    "    plt.ylabel('Hours of sleep')\n",
    "    \n",
    "    # Set axis limits\n",
    "    plt.xlim(0, days_total)\n",
    "    height = days_total*_HOURS_MAX\n",
    "    plt.ylim(-.05*height, height)\n",
    "    \n",
    "    # Set helper text\n",
    "    difference = days_total * abs(hours_childless - hours_parent)\n",
    "    verb = 'lost:  '\n",
    "    if hours_childless < hours_parent:\n",
    "        verb = ' gained:  '\n",
    "    text = 'Total hours ' + verb + str(int(difference)) + \\\n",
    "        '\\nTotal days ' + verb + str(int(difference / 24))\n",
    "    plt.text(.025*days_total, .6*height, text, fontsize=12)\n",
    "    # Set legend\n",
    "    plt.legend(loc='center left', fontsize=12, frameon=False)\n",
    "    plt.show()"
   ]
  },
  {
   "cell_type": "markdown",
   "metadata": {},
   "source": [
    "#### Create interactive widgets and plot"
   ]
  },
  {
   "cell_type": "code",
   "execution_count": 4,
   "metadata": {
    "collapsed": false
   },
   "outputs": [],
   "source": [
    "from ipywidgets import widgets\n",
    "from IPython.display import display\n",
    "\n",
    "# Create sliders\n",
    "slider_days = widgets.IntSlider(\n",
    "    description='Days until sleeping independently', **_DAYS_KWARGS)\n",
    "slider_childless = widgets.IntSlider(\n",
    "    description='Hours of sleep per night before birth', value=_HOURS_DEFAULT_CHILDLESS, **_HOURS_KWARGS)\n",
    "slider_parent = widgets.IntSlider(\n",
    "    description='Hours of sleep per night after birth', value=_HOURS_DEFAULT_PARENT, **_HOURS_KWARGS)\n",
    "\n",
    "# Create container\n",
    "interactive = widgets.interaction.interactive(\n",
    "    plot_sleep_deficit, days_total=slider_days,\n",
    "    hours_childless=slider_childless, hours_parent=slider_parent)\n",
    "\n",
    "# Style container\n",
    "for trait, value in _BOX_KWARGS.items():\n",
    "    interactive.set_trait(trait, value)"
   ]
  },
  {
   "cell_type": "markdown",
   "metadata": {},
   "source": [
    "#### Do it!"
   ]
  },
  {
   "cell_type": "code",
   "execution_count": 5,
   "metadata": {
    "collapsed": false
   },
   "outputs": [
    {
     "data": {
      "image/png": "[encoded data removed]",
      "text/plain": [
       "<matplotlib.figure.Figure at 0x10da25c10>"
      ]
     },
     "metadata": {},
     "output_type": "display_data"
    }
   ],
   "source": [
    "interactive"
   ]
  }
 ],
 "metadata": {
  "kernelspec": {
   "display_name": "Python 2",
   "language": "python",
   "name": "python2"
  },
  "language_info": {
   "codemirror_mode": {
    "name": "ipython",
    "version": 2
   },
   "file_extension": ".py",
   "mimetype": "text/x-python",
   "name": "python",
   "nbconvert_exporter": "python",
   "pygments_lexer": "ipython2",
   "version": "2.7.10"
  }
 },
 "nbformat": 4,
 "nbformat_minor": 0
}
