{
 "cells": [
  {
   "cell_type": "code",
   "execution_count": 1,
   "metadata": {
    "collapsed": false
   },
   "outputs": [
    {
     "data": {
      "text/html": [
       "<style>\n",
       "\n",
       "/* Notebook */\n",
       "div #notebook {\n",
       "    margin: auto;\n",
       "    padding-left: 0rem;\n",
       "}\n",
       "#notebook_panel {\n",
       "    background: rgb(245, 245, 245);\n",
       "}\n",
       "\n",
       "/* Cells */\n",
       "div.cell {\n",
       "    width: 750px;\n",
       "}\n",
       "div.cell.border-box-sizing.code_cell.running { \n",
       "    border: 1px solid rgb(0, 0, 204);\n",
       "}\n",
       "div.cell.code_cell {\n",
       "    background-color: rgb(250, 250, 250);\n",
       "    border-color: rgb(240, 240, 240);\n",
       "    border-radius: 1px; \n",
       "    margin-left:1rem;\n",
       "    margin-top: 1rem;\n",
       "}\n",
       "\n",
       "/* Typography */\n",
       "h1, h2, h3, h4, h5, h6,\n",
       ".h1, .h2, .h3, .h4, .h5, .h6 {\n",
       "  font-family: inherit;\n",
       "  font-weight: 500;\n",
       "  line-height: 1.1;\n",
       "  color: inherit;\n",
       "}\n",
       "h1, .h1, h2, .h2, h3, .h3 {\n",
       "  margin-top: 20px;\n",
       "  margin-bottom: 10px;\n",
       "}\n",
       "h1, .h1 {\n",
       "  font-size: 36px;\n",
       "}\n",
       "h2, .h2 {\n",
       "  font-size: 30px;\n",
       "}\n",
       "h3, .h3 {\n",
       "  font-size: 24px;\n",
       "}\n",
       "h4, .h4 {\n",
       "  font-size: 18px;\n",
       "}\n",
       "h5, .h5 {\n",
       "  font-size: 14px;\n",
       "}\n",
       "h6, .h6 {\n",
       "  font-size: 12px;\n",
       "}\n",
       "p {\n",
       "  margin: 0 0 10px;\n",
       "}\n",
       "\n",
       "</style>"
      ],
      "text/plain": [
       "<IPython.core.display.HTML object>"
      ]
     },
     "execution_count": 1,
     "metadata": {},
     "output_type": "execute_result"
    }
   ],
   "source": [
    "from IPython.core.display import HTML\n",
    "\n",
    "CSS_FILE = '../static/css/nb.css'\n",
    "HTML(open(CSS_FILE, 'r').read())"
   ]
  },
  {
   "cell_type": "markdown",
   "metadata": {},
   "source": [
    "# H1:  Stylizing Jupyter notebooks\n",
    "\n",
    "## H2:  Sample notebook for future reference\n",
    "\n",
    "### H3:  Just read a CSS file\n",
    "\n",
    "#### H4:  Don't worry about arbitrary width cells any longer\n",
    "\n",
    "P: And visually link code and output cells"
   ]
  },
  {
   "cell_type": "code",
   "execution_count": 2,
   "metadata": {
    "collapsed": false
   },
   "outputs": [
    {
     "name": "stdout",
     "output_type": "stream",
     "text": [
      "This is an output cell\n"
     ]
    }
   ],
   "source": [
    "# This is a code cell\n",
    "print 'This is an output cell'"
   ]
  }
 ],
 "metadata": {
  "kernelspec": {
   "display_name": "Python 2",
   "language": "python",
   "name": "python2"
  },
  "language_info": {
   "codemirror_mode": {
    "name": "ipython",
    "version": 2
   },
   "file_extension": ".py",
   "mimetype": "text/x-python",
   "name": "python",
   "nbconvert_exporter": "python",
   "pygments_lexer": "ipython2",
   "version": "2.7.10"
  }
 },
 "nbformat": 4,
 "nbformat_minor": 0
}
