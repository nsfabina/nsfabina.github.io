{
 "cells": [
  {
   "cell_type": "markdown",
   "metadata": {},
   "source": [
    "# Alaskan weather conditions\n",
    "\n",
    "## Motivation\n",
    "\n",
    "My partner currently works for an NPR affiliated station in Alaska. Every hour, a member of the station manually aggregates weather information from several websites. If this task takes 5 minutes every hour, that means a member of the station is spending at least 40 minutes every day, over 3 hours every work week, or over 6 days every year copying and pasting information.\n",
    "\n",
    "Luckily, we can use the Weather Underground API to automate most of this process, and the National Weather Service has a plaintext marine forecast link for the remainder of the information.\n",
    "\n",
    "## Setup\n",
    "\n",
    "First, I'm going to import necessary packages, configure the base URL for the Weather Underground API, and define a list of locations and latlon coordinates to reference for requests."
   ]
  },
  {
   "cell_type": "code",
   "execution_count": 1,
   "metadata": {
    "collapsed": true
   },
   "outputs": [],
   "source": [
    "import datetime\n",
    "import json\n",
    "import re\n",
    "import requests\n",
    "\n",
    "import pytz\n",
    "\n",
    "\n",
    "_URL_BASE = 'http://api.wunderground.com/api/{key}/{feature}/q/{query}.json'\n",
    "\n",
    "_LATLONS = {'anchor_point': '59.7775,-151.7702',\n",
    "            'anchorage': '61.2167,-149.9000',\n",
    "            'cooper_landing': '60.4905,-149.7944',\n",
    "            'homer': '59.6425,-152.5483',\n",
    "            'kachemak_bay_seldovia': '59.4394,-151.7122',\n",
    "            'kenai': '60.5586,-151.2297',\n",
    "            'kenai_river': '60.5439,-151.2786',\n",
    "            'nanwalek': '59.3536,-151.9125',\n",
    "            'ninilchik': '60.04638,-151.6672',\n",
    "            'port_graham': '59.3477,-151.8333',\n",
    "            'soldotna': '60.4866,-151.07527',\n",
    "            'western_kenai_peninsula': '59.8861,-151.6338'\n",
    "            }"
   ]
  },
  {
   "cell_type": "markdown",
   "metadata": {},
   "source": [
    "## Sunrise, sunset, and total daylight\n",
    "\n",
    "Now, I can request and format the daylight information, being careful about timezones."
   ]
  },
  {
   "cell_type": "code",
   "execution_count": 3,
   "metadata": {
    "collapsed": true
   },
   "outputs": [],
   "source": [
    "_STRING_DAYLIGHT = \"\"\"\n",
    "Daylight\n",
    "  Sunrise:  {sunrise_hour:0>2d}:{sunrise_minute:0>2d}\n",
    "  Sunset:   {sunset_hour:0>2d}:{sunset_minute:0>2d}\n",
    "  Total:    {total_hours} hours and {total_minutes} minutes\n",
    "\"\"\"\n",
    "\n",
    "\n",
    "def get_total_daylight():\n",
    "    sunrise_hour, sunrise_min, sunset_hour, sunset_min = _get_sun_phase_data_from_weather_underground()\n",
    "    sunrise = _get_datetime_object_for_sun_phase(sunrise_hour, sunrise_min)\n",
    "    sunset = _get_datetime_object_for_sun_phase(sunset_hour, sunset_min)\n",
    "    daylight_hours, daylight_minutes = _get_total_daylight_hours_and_minutes(sunset - sunrise)\n",
    "    return _STRING_DAYLIGHT.format(\n",
    "        sunrise_hour=sunrise.hour,\n",
    "        sunrise_minute=sunrise.minute,\n",
    "        sunset_hour=sunset.hour,\n",
    "        sunset_minute=sunset.minute,\n",
    "        total_hours=daylight_hours,\n",
    "        total_minutes=daylight_minutes\n",
    "        )\n",
    "\n",
    "\n",
    "def _get_sun_phase_data_from_weather_underground():\n",
    "    url = _URL_BASE.format(key=_KEY, feature='astronomy', query=_LATLONS['homer'])\n",
    "    data = json.loads(requests.get(url).text)\n",
    "    data_sunrise = data['sun_phase']['sunrise']\n",
    "    sunrise_hour = int(data_sunrise['hour'])\n",
    "    sunrise_min = int(data_sunrise['minute'])\n",
    "    data_sunset = data['sun_phase']['sunset']\n",
    "    sunset_hour = int(data_sunset['hour'])\n",
    "    sunset_min = int(data_sunset['minute'])\n",
    "    return (sunrise_hour, sunrise_min, sunset_hour, sunset_min)\n",
    "\n",
    "\n",
    "def _get_datetime_object_for_sun_phase(phase_hour, phase_min):\n",
    "    year, month, day = _get_datetime_in_alaska_tz()\n",
    "    return datetime.datetime(year, month, day, phase_hour, phase_min)\n",
    "\n",
    "\n",
    "def _get_datetime_in_alaska_tz():\n",
    "    timezone_utc = pytz.timezone('UTC')\n",
    "    timezone_ak = pytz.timezone('US/Alaska')\n",
    "    datetime_utc = datetime.datetime.utcnow().replace(tzinfo=timezone_utc)\n",
    "    datetime_ak = datetime_utc.astimezone(timezone_ak)\n",
    "    return (datetime_ak.year, datetime_ak.month, datetime_ak.day)\n",
    "\n",
    "\n",
    "def _get_total_daylight_hours_and_minutes(datetime_delta):\n",
    "    daylight_raw_minutes = datetime_delta.total_seconds() / 60\n",
    "    daylight_hours = int(daylight_raw_minutes / 60)\n",
    "    daylight_minutes = int(daylight_raw_minutes % 60)\n",
    "    return (daylight_hours, daylight_minutes)"
   ]
  },
  {
   "cell_type": "code",
   "execution_count": 4,
   "metadata": {
    "collapsed": false
   },
   "outputs": [
    {
     "name": "stdout",
     "output_type": "stream",
     "text": [
      "\n",
      "Daylight\n",
      "  Sunrise:  06:25\n",
      "  Sunset:   22:02\n",
      "  Total:    15 hours and 37 minutes\n",
      "\n"
     ]
    }
   ],
   "source": [
    "daylight = get_total_daylight()\n",
    "print(daylight)"
   ]
  },
  {
   "cell_type": "markdown",
   "metadata": {},
   "source": [
    "## High and low tides\n",
    "\n",
    "The next piece of information we care about is tidal heights."
   ]
  },
  {
   "cell_type": "code",
   "execution_count": 5,
   "metadata": {
    "collapsed": false
   },
   "outputs": [],
   "source": [
    "_KEY_TIDE_HIGH = 'High Tide'\n",
    "_KEY_TIDE_LOW = 'Low Tide'\n",
    "_KEY_HOUR = 'hour'\n",
    "_KEY_MINUTE = 'minute'\n",
    "_KEY_TIDE_HEIGHT = 'height'\n",
    "\n",
    "_STRING_TIDES = \"\"\"\n",
    "Tides\n",
    "  Kachemak Bay, Seldovia\n",
    "{kachemak_bay_seldovia_detail}\n",
    "  Kenai River\n",
    "{kenai_river_detail}\n",
    "\"\"\"\n",
    "\n",
    "_STRING_TIDES_DETAIL = \"\"\"    {month:0>2d}/{day:0>2d}\n",
    "      High tide:  {high_hour}:{high_minute} ({high_height})\n",
    "      Low tide:   {low_hour}:{low_minute} ({low_height})\n",
    "\"\"\"\n",
    "\n",
    "\n",
    "def get_tides():\n",
    "    key_locations = ['kachemak_bay_seldovia', 'kenai_river']\n",
    "    tide_string_details = {}\n",
    "    for key_location in key_locations:\n",
    "        raw_data_tides = _get_tide_data_from_weather_underground(key_location)\n",
    "        data_tides = _format_tide_data(raw_data_tides)\n",
    "        location_details = _format_tide_detail_strings(data_tides)\n",
    "        tide_string_details[key_location + '_detail'] = location_details\n",
    "    return _STRING_TIDES.format(**tide_string_details)\n",
    "\n",
    "\n",
    "def _get_tide_data_from_weather_underground(key_location):\n",
    "    url = _URL_BASE.format(key=_KEY, feature='tide', query=_LATLONS[key_location])\n",
    "    return json.loads(requests.get(url).text)\n",
    "\n",
    "\n",
    "def _format_tide_data(raw_data_tides):\n",
    "    data_tides = {}\n",
    "    for datum in raw_data_tides['tide']['tideSummary']:\n",
    "        if datum['data']['type'] not in [_KEY_TIDE_HIGH, _KEY_TIDE_LOW]:\n",
    "            continue\n",
    "        date = datum['date']\n",
    "        datetime_ak = datetime.datetime(int(date['year']), int(date['mon']), int(date['mday']))\n",
    "        data_tides.setdefault(datetime_ak, {})[datum['data']['type']] = \\\n",
    "            {_KEY_HOUR: date['hour'],\n",
    "             _KEY_MINUTE: date['min'],\n",
    "             _KEY_TIDE_HEIGHT: datum['data']['height']}\n",
    "    return data_tides\n",
    "\n",
    "\n",
    "def _format_tide_detail_strings(data_tides):\n",
    "    tide_string_details = []\n",
    "    for datetime_ak, datum in sorted(data_tides.items(), key=lambda dt: dt[0]):\n",
    "        tide_high = datum.get(_KEY_TIDE_HIGH, {})\n",
    "        tide_low = datum.get(_KEY_TIDE_LOW, {})\n",
    "        tide_string_details.append(\n",
    "            _STRING_TIDES_DETAIL.format(\n",
    "                month=datetime_ak.month, \n",
    "                day=datetime_ak.day,\n",
    "                high_hour=tide_high.get(_KEY_HOUR, 'XX'),\n",
    "                high_minute=tide_high.get(_KEY_MINUTE, 'XX'),\n",
    "                high_height=tide_high.get(_KEY_TIDE_HEIGHT, 'XX'),\n",
    "                low_hour=tide_low.get(_KEY_HOUR, 'XX'),\n",
    "                low_minute=tide_low.get(_KEY_MINUTE, 'XX'),\n",
    "                low_height=tide_low.get(_KEY_TIDE_HEIGHT, 'XX')\n",
    "                ))\n",
    "    return ''.join(tide_string_details)"
   ]
  },
  {
   "cell_type": "code",
   "execution_count": 6,
   "metadata": {
    "collapsed": false
   },
   "outputs": [
    {
     "name": "stdout",
     "output_type": "stream",
     "text": [
      "\n",
      "Tides\n",
      "  Kachemak Bay, Seldovia\n",
      "    08/14\n",
      "      High tide:  13:08 (14.03 ft)\n",
      "      Low tide:   18:36 (5.86 ft)\n",
      "    08/15\n",
      "      High tide:  13:51 (15.46 ft)\n",
      "      Low tide:   19:25 (4.45 ft)\n",
      "    08/16\n",
      "      High tide:  14:29 (16.92 ft)\n",
      "      Low tide:   20:09 (2.88 ft)\n",
      "    08/17\n",
      "      High tide:  15:05 (18.27 ft)\n",
      "      Low tide:   20:49 (1.35 ft)\n",
      "    08/18\n",
      "      High tide:  02:53 (19.94 ft)\n",
      "      Low tide:   09:15 (-2.99 ft)\n",
      "\n",
      "  Kenai River\n",
      "    08/14\n",
      "      High tide:  15:00 (16.73 ft)\n",
      "      Low tide:   20:54 (6.36 ft)\n",
      "    08/15\n",
      "      High tide:  15:43 (18.16 ft)\n",
      "      Low tide:   21:43 (4.95 ft)\n",
      "    08/16\n",
      "      High tide:  16:21 (19.62 ft)\n",
      "      Low tide:   22:27 (3.38 ft)\n",
      "    08/17\n",
      "      High tide:  16:57 (20.97 ft)\n",
      "      Low tide:   23:07 (1.85 ft)\n",
      "    08/18\n",
      "      High tide:  04:45 (22.64 ft)\n",
      "      Low tide:   XX:XX (XX)\n",
      "\n",
      "\n"
     ]
    }
   ],
   "source": [
    "tides = get_tides()\n",
    "print(tides)"
   ]
  },
  {
   "cell_type": "markdown",
   "metadata": {},
   "source": [
    "## Current temperatures\n",
    "\n",
    "We also need current temperatures for several communities in the area."
   ]
  },
  {
   "cell_type": "code",
   "execution_count": 7,
   "metadata": {
    "collapsed": false
   },
   "outputs": [],
   "source": [
    "_STRING_CURRENT_TEMPERATURE = \"\"\"\n",
    "Current temperature\n",
    "{current_temperature_detail}\n",
    "\"\"\"\n",
    "\n",
    "_STRING_CURRENT_TEMPERATURE_DETAIL = \"\"\"  {city:<{padding}s}  {temperature:.0f}\n",
    "\"\"\"\n",
    "\n",
    "_ORDER_CURRENT_TEMPERATURE = [\n",
    "    ('homer', 'Homer'),\n",
    "    ('anchor_point', 'Anchor Point'),\n",
    "    ('ninilchik', 'Ninilchik'),\n",
    "    ('kachemak_bay_seldovia', 'Seldovia'),\n",
    "    ('port_graham', 'Port Graham'),\n",
    "    ('nanwalek', 'Nanwalek'),\n",
    "    ('kenai', 'Kenai'),\n",
    "    ('soldotna', 'Soldotna'),\n",
    "    ('cooper_landing', 'Cooper Landing'),\n",
    "    ('anchorage', 'Anchorage')\n",
    "    ]\n",
    "\n",
    "\n",
    "def get_current_temperature():\n",
    "    string_padding = max(len(city) for _, city in _ORDER_CURRENT_TEMPERATURE)\n",
    "    string_temperature_details = []\n",
    "    for key, city in _ORDER_CURRENT_TEMPERATURE:\n",
    "        raw_temp = _get_current_temperature_data_from_weather_underground(key)\n",
    "        city_detail = _STRING_CURRENT_TEMPERATURE_DETAIL.format(\n",
    "            city=city + ':', padding=string_padding, temperature=raw_temp)\n",
    "        string_temperature_details.append(city_detail)\n",
    "    return _STRING_CURRENT_TEMPERATURE.format(current_temperature_detail=''.join(string_temperature_details))\n",
    "\n",
    "\n",
    "def _get_current_temperature_data_from_weather_underground(key_location):\n",
    "    url = _URL_BASE.format(key=_KEY, feature='conditions', query=_LATLONS[key_location])\n",
    "    return json.loads(requests.get(url).text)['current_observation']['temp_f']"
   ]
  },
  {
   "cell_type": "code",
   "execution_count": 8,
   "metadata": {
    "collapsed": false
   },
   "outputs": [
    {
     "name": "stdout",
     "output_type": "stream",
     "text": [
      "\n",
      "Current temperature\n",
      "  Homer:          53\n",
      "  Anchor Point:   53\n",
      "  Ninilchik:      53\n",
      "  Seldovia:       50\n",
      "  Port Graham:    50\n",
      "\n",
      "\n"
     ]
    }
   ],
   "source": [
    "current_temperatures = get_current_temperature()\n",
    "print(current_temperatures)"
   ]
  },
  {
   "cell_type": "markdown",
   "metadata": {},
   "source": [
    "## Descriptive forecasts\n",
    "\n",
    "The last pieces of information we want from Weather Underground are the descriptive forecasts for two regions."
   ]
  },
  {
   "cell_type": "code",
   "execution_count": 9,
   "metadata": {
    "collapsed": true
   },
   "outputs": [],
   "source": [
    "_STRING_FORECAST = \"\"\"\n",
    "Forecast\n",
    "  Western Kenai Peninsula\n",
    "{western_kenai_peninsula_detail}\n",
    "  Anchorage\n",
    "{anchorage_detail}\n",
    "\"\"\"\n",
    "\n",
    "_STRING_FORECAST_DETAIL = \"\"\"    {title}:  {forecast}\n",
    "\"\"\"\n",
    "\n",
    "_ORDER_FORECAST = [\n",
    "    ('western_kenai_peninsula', 'Western Kenai Peninsula'),\n",
    "    ('anchorage', 'Anchorage')\n",
    "    ]\n",
    "\n",
    "\n",
    "def get_forecast():\n",
    "    location_details = {}\n",
    "    for key, name in _ORDER_FORECAST:\n",
    "        raw_data_forecast = _get_forecast_data_from_weather_underground(key)\n",
    "        data_forecast = _format_forecast_data(raw_data_forecast)\n",
    "        location_details[key + '_detail'] = ''.join(\n",
    "            _STRING_FORECAST_DETAIL.format(title=title, forecast=forecast)\n",
    "            for title, forecast in data_forecast)\n",
    "    return _STRING_FORECAST.format(**location_details)\n",
    "\n",
    "\n",
    "def _get_forecast_data_from_weather_underground(key_location):\n",
    "    url = _URL_BASE.format(key=_KEY, feature='forecast', query=_LATLONS[key_location])\n",
    "    return json.loads(requests.get(url).text)\n",
    "\n",
    "\n",
    "def _format_forecast_data(raw_data_forecast):\n",
    "    data_forecast = []\n",
    "    for datum in raw_data_forecast['forecast']['txt_forecast']['forecastday']:\n",
    "        if datum['period'] == 4:\n",
    "            break\n",
    "        data_forecast.append((datum['title'], datum['fcttext']))\n",
    "    return data_forecast"
   ]
  },
  {
   "cell_type": "code",
   "execution_count": 10,
   "metadata": {
    "collapsed": false
   },
   "outputs": [
    {
     "name": "stdout",
     "output_type": "stream",
     "text": [
      "\n",
      "Forecast\n",
      "  Western Kenai Peninsula\n",
      "    Sunday:  Showers this morning, becoming a steady rain during the afternoon hours. High near 60F. Winds NNE at 5 to 10 mph. Chance of rain 80%. Rainfall near a half an inch.\n",
      "    Sunday Night:  Steady light rain this evening. Showers continuing overnight. Low 49F. Winds light and variable. Chance of rain 70%.\n",
      "    Monday:  Rain showers in the morning will evolve into a more steady rain in the afternoon. High around 60F. Winds light and variable. Chance of rain 60%.\n",
      "    Monday Night:  Partly cloudy. Low 48F. Winds SSW at 5 to 10 mph.\n",
      "\n",
      "  Anchorage\n",
      "    Sunday:  Rain. High 62F. Winds E at 5 to 10 mph. Chance of rain 70%. Rainfall around a quarter of an inch.\n",
      "    Sunday Night:  Cloudy with occasional rain showers. Low 52F. Winds ESE at 5 to 10 mph. Chance of rain 50%.\n",
      "    Monday:  Rain showers early with some sunshine later in the day. High 63F. Winds NNE at 5 to 10 mph. Chance of rain 40%.\n",
      "    Monday Night:  Rain showers early with clearing later at night. Low 54F. Winds SSE at 5 to 10 mph. Chance of rain 40%.\n",
      "\n",
      "\n"
     ]
    }
   ],
   "source": [
    "forecast = get_forecast()\n",
    "print(forecast)"
   ]
  },
  {
   "cell_type": "markdown",
   "metadata": {},
   "source": [
    "## Descriptive marine forecasts\n",
    "\n",
    "Finally, we can switch gears and grab the descriptive marine forecasts for several locations from the National Weather Service"
   ]
  },
  {
   "cell_type": "code",
   "execution_count": 26,
   "metadata": {
    "collapsed": true
   },
   "outputs": [],
   "source": [
    "_URL_MARINE_FORECAST = 'http://tgftp.nws.noaa.gov/data/raw/fz/fzak51.pafc.cwf.aer.txt'\n",
    "_SEPARATOR_MARINE_FORECAST = '\\$\\$'\n",
    "\n",
    "_ORDER_MARINE_FORECAST = [\n",
    "    'KACHEMAK BAY',\n",
    "    'COOK INLET NORTH OF KALGIN ISLAND',\n",
    "    'COOK INLET KALGIN ISLAND TO POINT BEDE',\n",
    "    'SHELIKOF STRAIT',\n",
    "    'BARREN ISLANDS EAST',\n",
    "    'WEST OF BARREN ISLANDS INCLUDING KAMISHAK BAY',\n",
    "    'CAPE CLEARE TO GORE POINT',\n",
    "]"
   ]
  },
  {
   "cell_type": "code",
   "execution_count": 28,
   "metadata": {
    "collapsed": true
   },
   "outputs": [],
   "source": [
    "def get_marine_forecast():\n",
    "    # Get and split the raw text into forecasts for individual locations\n",
    "    raw_text = requests.get(_URL_MARINE_FORECAST).text\n",
    "    split_text = re.split(_SEPARATOR_MARINE_FORECAST, raw_text)\n",
    "    # Sort forecasts for select locations\n",
    "    ordered_forecasts = []\n",
    "    for location in _ORDER_MARINE_FORECAST:\n",
    "        idx_found = [bool(re.search(location, forecast))\n",
    "                     for forecast in split_text].index(True)\n",
    "        ordered_forecasts.append(split_text[idx_found])\n",
    "    return ''.join(ordered_forecasts)"
   ]
  },
  {
   "cell_type": "code",
   "execution_count": 31,
   "metadata": {
    "collapsed": false
   },
   "outputs": [
    {
     "name": "stdout",
     "output_type": "stream",
     "text": [
      "\n",
      "\n",
      "PKZ141-220100-\n",
      "KACHEMAK BAY-\n",
      "352 AM AKDT SUN AUG 21 2016\n",
      "\n",
      "...SMALL CRAFT ADVISORY THROUGH TONIGHT...\n",
      "\n",
      ".TODAY...S WIND 15 KT BECOMING SE 25 KT IN THE AFTERNOON...STRONGEST\n",
      "ALONG THE OUTER BAY. SEAS 2 FT BUILDING TO 4 FT IN THE AFTERNOON.\n",
      "RAIN.\n",
      ".TONIGHT...SE WIND 25 KT DIMINISHING TO 15 KT AFTER MIDNIGHT.\n",
      "SEAS 4 FT SUBSIDING TO 2 FT AFTER MIDNIGHT. RAIN.\n",
      ".MON...E WIND 10 KT INCREASING TO NE 15 KT IN THE AFTERNOON. \n",
      "SEAS 3 FT. RAIN.\n",
      ".MON NIGHT...NE WIND 10 KT. SEAS 2 FT.\n",
      ".TUE...SE WIND 10 KT. SEAS 2 FT.\n",
      ".WED THROUGH THU...VARIABLE WIND LESS THAN 10 KT. SEAS 1 FT.\n",
      "\n",
      "\n",
      "\n",
      "PKZ140-220100-\n",
      "COOK INLET NORTH OF KALGIN ISLAND-\n",
      "352 AM AKDT SUN AUG 21 2016\n",
      "\n",
      ".TODAY...S WIND 20 KT. GUSTS TO 30 KT EARLY THIS MORNING. \n",
      "SEAS 6 FT SUBSIDING TO 4 FT IN THE AFTERNOON. RAIN.\n",
      ".TONIGHT...SE WIND 20 KT BECOMING E 10 KT AFTER MIDNIGHT. \n",
      "SEAS 4 FT SUBSIDING. RAIN.\n",
      ".MON...NE WIND 15 KT. SEAS 3 FT. RAIN.\n",
      ".MON NIGHT...NE WIND 20 KT. SEAS 4 FT.\n",
      ".TUE THROUGH WED...NE WIND 10 KT. SEAS 2 FT.\n",
      ".THU...S WIND 10 KT. SEAS 2 FT.\n",
      "\n",
      "\n",
      "\n",
      "PKZ139-220100-\n",
      "COOK INLET KALGIN ISLAND TO POINT BEDE-\n",
      "352 AM AKDT SUN AUG 21 2016\n",
      "\n",
      "...GALE WARNING TONIGHT...\n",
      "\n",
      ".TODAY...S WIND 25 KT. SEAS 8 FT. RAIN.\n",
      ".TONIGHT...SE WIND 35 KT BECOMING E 15 KT AFTER MIDNIGHT. \n",
      "SEAS 10 FT SUBSIDING TO 4 FT AFTER MIDNIGHT. RAIN.\n",
      ".MON...NE WIND 15 KT INCREASING TO 25 KT IN THE AFTERNOON. \n",
      "SEAS 4 FT BUILDING TO 7 FT IN THE AFTERNOON. RAIN.\n",
      ".MON NIGHT...NE WIND 25 KT. SEAS 7 FT.\n",
      ".TUE THROUGH WED...NE WIND 10 KT. SEAS 3 FT.\n",
      ".THU...S WIND 10 KT. SEAS 2 FT.\n",
      "\n",
      "\n",
      "\n",
      "PKZ138-220100-\n",
      "SHELIKOF STRAIT-\n",
      "352 AM AKDT SUN AUG 21 2016\n",
      "\n",
      "...SMALL CRAFT ADVISORY THROUGH TONIGHT...\n",
      "\n",
      ".TODAY...S WIND 30 KT. SEAS 9 FT. RAIN.\n",
      ".TONIGHT...S WIND 25 KT BECOMING SE 15 KT AFTER MIDNIGHT. \n",
      "SEAS 8 FT SUBSIDING TO 4 FT AFTER MIDNIGHT. RAIN SHOWERS.\n",
      ".MON...VARIABLE WIND 10 KT. SEAS 3 FT. RAIN SHOWERS.\n",
      ".MON NIGHT THROUGH THU...VARIABLE WIND 10 KT. SEAS 2 FT.\n",
      "\n",
      "\n",
      "\n",
      "PKZ131-220100-\n",
      "BARREN ISLANDS EAST-\n",
      "352 AM AKDT SUN AUG 21 2016\n",
      "\n",
      "...GALE WARNING THROUGH TONIGHT...\n",
      "\n",
      ".TODAY...S WIND 25 KT INCREASING TO 35 KT IN THE AFTERNOON. \n",
      "SEAS 8 FT. RAIN.\n",
      ".TONIGHT...S WIND 35 KT BECOMING SE 25 KT AFTER MIDNIGHT. \n",
      "SEAS 9 FT. RAIN.\n",
      ".MON...SE WIND 25 KT. SEAS 8 FT. RAIN.\n",
      ".MON NIGHT...SE WIND 20 KT. SEAS 7 FT.\n",
      ".TUE THROUGH THU...S WIND 15 KT. SEAS 6 FT.\n",
      "\n",
      "\n",
      "\n",
      "PKZ130-220100-\n",
      "WEST OF BARREN ISLANDS INCLUDING KAMISHAK BAY-\n",
      "352 AM AKDT SUN AUG 21 2016\n",
      "\n",
      "...GALE WARNING THROUGH TONIGHT...\n",
      "\n",
      ".TODAY...S WIND 25 KT BECOMING SE 35 KT IN THE AFTERNOON. \n",
      "SEAS 8 FT BUILDING TO 12 FT IN THE AFTERNOON. RAIN.\n",
      ".TONIGHT...SE WIND 35 KT. SEAS 13 FT. RAIN.\n",
      ".MON...E WIND 25 KT. SEAS 8 FT. RAIN.\n",
      ".MON NIGHT...E WIND 20 KT. SEAS 5 FT.\n",
      ".TUE THROUGH WED...SE WIND 15 KT. SEAS 4 FT.\n",
      ".THU...VARIABLE WIND 10 KT. SEAS 3 FT.\n",
      "\n",
      "\n",
      "\n",
      "PKZ120-220100-\n",
      "CAPE CLEARE TO GORE POINT-\n",
      "352 AM AKDT SUN AUG 21 2016\n",
      "\n",
      "...SMALL CRAFT ADVISORY TONIGHT AND MONDAY...\n",
      "\n",
      ".TODAY...S WIND 20 KT. SEAS 7 FT. RAIN.\n",
      ".TONIGHT...S WIND 25 KT. SEAS 8 FT. RAIN.\n",
      ".MON...SE WIND 25 KT. SEAS 8 FT. RAIN.\n",
      ".MON NIGHT...SE WIND 25 KT. SEAS 9 FT.\n",
      ".TUE THROUGH WED...SE WIND 15 KT. SEAS 7 FT.\n",
      ".THU...S WIND 15 KT. SEAS 6 FT.\n",
      "\n",
      "\n"
     ]
    }
   ],
   "source": [
    "marine_forecasts = get_marine_forecast()\n",
    "print(marine_forecasts)"
   ]
  },
  {
   "cell_type": "markdown",
   "metadata": {
    "collapsed": true
   },
   "source": [
    "## Putting it together\n",
    "\n",
    "Given the caveat that my partner is only somewhat tech saavy, the goal is to take these functions from a set of scripts that need to be called manually, to a resource that's available when needed. This is especially important given potential issues with the Weather Underground API limit for the free-tier."
   ]
  }
 ],
 "metadata": {
  "kernelspec": {
   "display_name": "Python 2",
   "language": "python",
   "name": "python2"
  },
  "language_info": {
   "codemirror_mode": {
    "name": "ipython",
    "version": 2
   },
   "file_extension": ".py",
   "mimetype": "text/x-python",
   "name": "python",
   "nbconvert_exporter": "python",
   "pygments_lexer": "ipython2",
   "version": "2.7.10"
  }
 },
 "nbformat": 4,
 "nbformat_minor": 0
}
